{
 "cells": [
  {
   "cell_type": "markdown",
   "metadata": {},
   "source": [
    "# WeatherPy\n",
    "----\n",
    "\n",
    "#### Note\n",
    "* Instructions have been included for each segment. You do not have to follow them exactly, but they are included to help you think through the steps."
   ]
  },
  {
   "cell_type": "code",
   "execution_count": 67,
   "metadata": {},
   "outputs": [],
   "source": [
    "#importing dependencies\n",
    "\n",
    "import json\n",
    "import requests\n",
    "import pandas as pd\n",
    "import matplotlib.pyplot as plt\n",
    "import numpy as np\n",
    "from citipy import citipy\n",
    "from scipy.stats import linregress\n",
    "from sklearn import datasets\n",
    "\n",
    "#import api_key\n",
    "from api_keys import weather_api_key\n",
    "\n",
    "#configure gmap\n",
    "# gmaps.configure(api_keys=g_key)\n",
    "\n",
    "#Range of lat/long\n",
    "\n",
    "range_lat = (-90,90)\n",
    "range_long = (-180,180)\n",
    "\n",
    "#Output csv\n",
    "\n",
    "weather_file = \"Final Outputs/weathercities.csv\""
   ]
  },
  {
   "cell_type": "markdown",
   "metadata": {},
   "source": [
    "## Generate Cities List"
   ]
  },
  {
   "cell_type": "code",
   "execution_count": 9,
   "metadata": {},
   "outputs": [
    {
     "data": {
      "text/plain": [
       "579"
      ]
     },
     "execution_count": 9,
     "metadata": {},
     "output_type": "execute_result"
    }
   ],
   "source": [
    "#List for cities\n",
    "\n",
    "cities=[]\n",
    "lats_longs=[]\n",
    "\n",
    "#generate cities size was 500 then 2500 then 2000. Settle 1313\n",
    "\n",
    "lats = np.random.uniform(low=-90.000, high=90.000, size = 1313)\n",
    "longs = np.random.uniform(low=-180.000, high=180.000, size = 1313)\n",
    "lats_longs = zip(lats, longs)\n",
    "\n",
    "for lat_long in lats_longs:\n",
    "    city = citipy.nearest_city(lat_long[0], lat_long[1]).city_name\n",
    "    if city not in cities: \n",
    "        cities.append(city)\n",
    "len(cities)\n",
    "\n",
    "\n"
   ]
  },
  {
   "cell_type": "code",
   "execution_count": 10,
   "metadata": {},
   "outputs": [
    {
     "data": {
      "text/html": [
       "<div>\n",
       "<style scoped>\n",
       "    .dataframe tbody tr th:only-of-type {\n",
       "        vertical-align: middle;\n",
       "    }\n",
       "\n",
       "    .dataframe tbody tr th {\n",
       "        vertical-align: top;\n",
       "    }\n",
       "\n",
       "    .dataframe thead th {\n",
       "        text-align: right;\n",
       "    }\n",
       "</style>\n",
       "<table border=\"1\" class=\"dataframe\">\n",
       "  <thead>\n",
       "    <tr style=\"text-align: right;\">\n",
       "      <th></th>\n",
       "      <th>City</th>\n",
       "      <th>Lat</th>\n",
       "      <th>Long</th>\n",
       "      <th>Date</th>\n",
       "      <th>Cloudiness</th>\n",
       "      <th>Humidity</th>\n",
       "      <th>Max Temp</th>\n",
       "      <th>Min Temp</th>\n",
       "      <th>Windspeed</th>\n",
       "    </tr>\n",
       "  </thead>\n",
       "  <tbody>\n",
       "    <tr>\n",
       "      <th>0</th>\n",
       "      <td>hambantota</td>\n",
       "      <td></td>\n",
       "      <td></td>\n",
       "      <td></td>\n",
       "      <td></td>\n",
       "      <td></td>\n",
       "      <td></td>\n",
       "      <td></td>\n",
       "      <td></td>\n",
       "    </tr>\n",
       "    <tr>\n",
       "      <th>1</th>\n",
       "      <td>vaini</td>\n",
       "      <td></td>\n",
       "      <td></td>\n",
       "      <td></td>\n",
       "      <td></td>\n",
       "      <td></td>\n",
       "      <td></td>\n",
       "      <td></td>\n",
       "      <td></td>\n",
       "    </tr>\n",
       "    <tr>\n",
       "      <th>2</th>\n",
       "      <td>aswan</td>\n",
       "      <td></td>\n",
       "      <td></td>\n",
       "      <td></td>\n",
       "      <td></td>\n",
       "      <td></td>\n",
       "      <td></td>\n",
       "      <td></td>\n",
       "      <td></td>\n",
       "    </tr>\n",
       "    <tr>\n",
       "      <th>3</th>\n",
       "      <td>nikolskoye</td>\n",
       "      <td></td>\n",
       "      <td></td>\n",
       "      <td></td>\n",
       "      <td></td>\n",
       "      <td></td>\n",
       "      <td></td>\n",
       "      <td></td>\n",
       "      <td></td>\n",
       "    </tr>\n",
       "    <tr>\n",
       "      <th>4</th>\n",
       "      <td>illoqqortoormiut</td>\n",
       "      <td></td>\n",
       "      <td></td>\n",
       "      <td></td>\n",
       "      <td></td>\n",
       "      <td></td>\n",
       "      <td></td>\n",
       "      <td></td>\n",
       "      <td></td>\n",
       "    </tr>\n",
       "  </tbody>\n",
       "</table>\n",
       "</div>"
      ],
      "text/plain": [
       "               City Lat Long Date Cloudiness Humidity Max Temp Min Temp  \\\n",
       "0        hambantota                                                       \n",
       "1             vaini                                                       \n",
       "2             aswan                                                       \n",
       "3        nikolskoye                                                       \n",
       "4  illoqqortoormiut                                                       \n",
       "\n",
       "  Windspeed  \n",
       "0            \n",
       "1            \n",
       "2            \n",
       "3            \n",
       "4            "
      ]
     },
     "execution_count": 10,
     "metadata": {},
     "output_type": "execute_result"
    }
   ],
   "source": [
    "#Dataframe \n",
    "\n",
    "weather_cities = pd.DataFrame({'City' : cities, 'Lat': \" \", 'Long': \" \",'Date': \" \"\n",
    "                               , 'Cloudiness' : \" \", 'Humidity': \" \", 'Max Temp': \" \"\n",
    "                               , 'Min Temp': \" \", 'Windspeed': \" \"})\n",
    "weather_cities.head()"
   ]
  },
  {
   "cell_type": "markdown",
   "metadata": {},
   "source": [
    "### Perform API Calls\n",
    "* Perform a weather check on each city using a series of successive API calls.\n",
    "* Include a print log of each city as it'sbeing processed (with the city number and city name).\n"
   ]
  },
  {
   "cell_type": "code",
   "execution_count": 12,
   "metadata": {},
   "outputs": [
    {
     "name": "stdout",
     "output_type": "stream",
     "text": [
      "Weather Data\n",
      "Processing weather for record 1 of Set 1 | hambantota\n",
      "Processing weather for record 2 of Set 1 | vaini\n",
      "Processing weather for record 3 of Set 1 | aswan\n",
      "Processing weather for record 4 of Set 1 | nikolskoye\n",
      "Processing weather for record 5 of Set 1 | illoqqortoormiut\n",
      "City not found...next\n",
      "Processing weather for record 5 of Set 1 | victoria\n",
      "Processing weather for record 6 of Set 1 | rikitea\n",
      "Processing weather for record 7 of Set 1 | ahtopol\n",
      "Processing weather for record 8 of Set 1 | qaqortoq\n",
      "Processing weather for record 9 of Set 1 | rio grande\n",
      "Processing weather for record 10 of Set 1 | hobart\n",
      "Processing weather for record 11 of Set 1 | urambo\n",
      "Processing weather for record 12 of Set 1 | cockburn town\n",
      "Processing weather for record 13 of Set 1 | east london\n",
      "Processing weather for record 14 of Set 1 | itarema\n",
      "Processing weather for record 15 of Set 1 | grand river south east\n",
      "City not found...next\n",
      "Processing weather for record 15 of Set 1 | busselton\n",
      "Processing weather for record 16 of Set 1 | baiao\n",
      "Processing weather for record 17 of Set 1 | jamestown\n",
      "Processing weather for record 18 of Set 1 | kalmunai\n",
      "Processing weather for record 19 of Set 1 | bilibino\n",
      "Processing weather for record 20 of Set 1 | kapaa\n",
      "Processing weather for record 21 of Set 1 | carutapera\n",
      "Processing weather for record 22 of Set 1 | belushya guba\n",
      "City not found...next\n",
      "Processing weather for record 22 of Set 1 | plouzane\n",
      "Processing weather for record 23 of Set 1 | phnum penh\n",
      "City not found...next\n",
      "Processing weather for record 23 of Set 1 | punta arenas\n",
      "Processing weather for record 24 of Set 1 | albany\n",
      "Processing weather for record 25 of Set 1 | bredasdorp\n",
      "Processing weather for record 26 of Set 1 | hermanus\n",
      "Processing weather for record 27 of Set 1 | el tigre\n",
      "Processing weather for record 28 of Set 1 | constitucion\n",
      "Processing weather for record 29 of Set 1 | attawapiskat\n",
      "City not found...next\n",
      "Processing weather for record 29 of Set 1 | luoyang\n",
      "Processing weather for record 30 of Set 1 | carnarvon\n",
      "Processing weather for record 31 of Set 1 | bambous virieux\n",
      "Processing weather for record 32 of Set 1 | fuxin\n",
      "Processing weather for record 33 of Set 1 | provideniya\n",
      "Processing weather for record 34 of Set 1 | staraya russa\n",
      "Processing weather for record 35 of Set 1 | la ronge\n",
      "Processing weather for record 36 of Set 1 | yirol\n",
      "City not found...next\n",
      "Processing weather for record 36 of Set 1 | seoul\n",
      "Processing weather for record 37 of Set 1 | saleaula\n",
      "City not found...next\n",
      "Processing weather for record 37 of Set 1 | aljezur\n",
      "Processing weather for record 38 of Set 1 | barentsburg\n",
      "City not found...next\n",
      "Processing weather for record 38 of Set 1 | taolanaro\n",
      "City not found...next\n",
      "Processing weather for record 38 of Set 1 | tres arroyos\n",
      "Processing weather for record 39 of Set 1 | wexford\n",
      "Processing weather for record 40 of Set 1 | ushuaia\n",
      "Processing weather for record 41 of Set 1 | olafsvik\n",
      "Processing weather for record 42 of Set 1 | luderitz\n",
      "Processing weather for record 43 of Set 1 | whitehorse\n",
      "Processing weather for record 44 of Set 1 | miri\n",
      "Processing weather for record 45 of Set 1 | spasskoye\n",
      "Processing weather for record 46 of Set 1 | chokurdakh\n",
      "Processing weather for record 47 of Set 1 | chifeng\n",
      "Processing weather for record 48 of Set 1 | honiara\n",
      "Processing weather for record 49 of Set 1 | inhambane\n",
      "Processing weather for record 1 of Set 2 | port elizabeth\n",
      "Processing weather for record 2 of Set 2 | yellowknife\n",
      "Processing weather for record 3 of Set 2 | vila velha\n",
      "Processing weather for record 4 of Set 2 | nhulunbuy\n",
      "Processing weather for record 5 of Set 2 | senmonorom\n",
      "City not found...next\n",
      "Processing weather for record 5 of Set 2 | qaanaaq\n",
      "Processing weather for record 6 of Set 2 | port blair\n",
      "Processing weather for record 7 of Set 2 | barrow\n",
      "Processing weather for record 8 of Set 2 | avarua\n",
      "Processing weather for record 9 of Set 2 | kokstad\n",
      "Processing weather for record 10 of Set 2 | ormara\n",
      "Processing weather for record 11 of Set 2 | praia\n",
      "Processing weather for record 12 of Set 2 | barra patuca\n",
      "Processing weather for record 13 of Set 2 | aitape\n",
      "Processing weather for record 14 of Set 2 | dingle\n",
      "Processing weather for record 15 of Set 2 | usvyaty\n",
      "Processing weather for record 16 of Set 2 | hirado\n",
      "Processing weather for record 17 of Set 2 | norman wells\n",
      "Processing weather for record 18 of Set 2 | cape town\n",
      "Processing weather for record 19 of Set 2 | chicama\n",
      "Processing weather for record 20 of Set 2 | thompson\n",
      "Processing weather for record 21 of Set 2 | mataura\n",
      "Processing weather for record 22 of Set 2 | kazalinsk\n",
      "City not found...next\n",
      "Processing weather for record 22 of Set 2 | molina\n",
      "Processing weather for record 23 of Set 2 | gweta\n",
      "Processing weather for record 24 of Set 2 | faya\n",
      "Processing weather for record 25 of Set 2 | miranda\n",
      "Processing weather for record 26 of Set 2 | puerto baquerizo moreno\n",
      "Processing weather for record 27 of Set 2 | pierre\n",
      "Processing weather for record 28 of Set 2 | faanui\n",
      "Processing weather for record 29 of Set 2 | ternate\n",
      "Processing weather for record 30 of Set 2 | mugumu\n",
      "Processing weather for record 31 of Set 2 | hithadhoo\n",
      "Processing weather for record 32 of Set 2 | luau\n",
      "Processing weather for record 33 of Set 2 | kodiak\n",
      "Processing weather for record 34 of Set 2 | taltal\n",
      "Processing weather for record 35 of Set 2 | chimoio\n",
      "Processing weather for record 36 of Set 2 | marcona\n",
      "City not found...next\n",
      "Processing weather for record 36 of Set 2 | dikson\n",
      "Processing weather for record 37 of Set 2 | komsomolskiy\n",
      "Processing weather for record 38 of Set 2 | cayenne\n",
      "Processing weather for record 39 of Set 2 | upernavik\n",
      "Processing weather for record 40 of Set 2 | vila franca do campo\n",
      "Processing weather for record 41 of Set 2 | mount gambier\n",
      "Processing weather for record 42 of Set 2 | tasiilaq\n",
      "Processing weather for record 43 of Set 2 | nizhneyansk\n",
      "City not found...next\n",
      "Processing weather for record 43 of Set 2 | severo-yeniseyskiy\n",
      "Processing weather for record 44 of Set 2 | srednekolymsk\n",
      "Processing weather for record 45 of Set 2 | lampazos de naranjo\n",
      "Processing weather for record 46 of Set 2 | new norfolk\n",
      "Processing weather for record 47 of Set 2 | butaritari\n",
      "Processing weather for record 48 of Set 2 | manta\n",
      "Processing weather for record 49 of Set 2 | emba\n",
      "Processing weather for record 1 of Set 3 | lyman\n",
      "Processing weather for record 2 of Set 3 | port alfred\n",
      "Processing weather for record 3 of Set 3 | saint-philippe\n",
      "Processing weather for record 4 of Set 3 | klaksvik\n",
      "Processing weather for record 5 of Set 3 | yueyang\n",
      "Processing weather for record 6 of Set 3 | atuona\n",
      "Processing weather for record 7 of Set 3 | cooma\n",
      "Processing weather for record 8 of Set 3 | ferrol\n",
      "Processing weather for record 9 of Set 3 | voyvozh\n",
      "Processing weather for record 10 of Set 3 | warqla\n",
      "City not found...next\n",
      "Processing weather for record 10 of Set 3 | mastic beach\n",
      "Processing weather for record 11 of Set 3 | tsihombe\n",
      "City not found...next\n",
      "Processing weather for record 11 of Set 3 | acara\n",
      "Processing weather for record 12 of Set 3 | nola\n",
      "Processing weather for record 13 of Set 3 | singaraja\n",
      "Processing weather for record 14 of Set 3 | tuktoyaktuk\n",
      "Processing weather for record 15 of Set 3 | broome\n",
      "Processing weather for record 16 of Set 3 | mortka\n",
      "Processing weather for record 17 of Set 3 | douglas\n",
      "Processing weather for record 18 of Set 3 | yerofey pavlovich\n",
      "Processing weather for record 19 of Set 3 | lebu\n",
      "Processing weather for record 20 of Set 3 | ponta do sol\n",
      "Processing weather for record 21 of Set 3 | los llanos de aridane\n",
      "Processing weather for record 22 of Set 3 | tarrafal\n",
      "Processing weather for record 23 of Set 3 | bengkulu\n",
      "Processing weather for record 24 of Set 3 | axim\n",
      "Processing weather for record 25 of Set 3 | saskylakh\n",
      "Processing weather for record 26 of Set 3 | watsa\n",
      "Processing weather for record 27 of Set 3 | ambanja\n",
      "Processing weather for record 28 of Set 3 | narsaq\n",
      "Processing weather for record 29 of Set 3 | monrovia\n",
      "Processing weather for record 30 of Set 3 | charlestown\n",
      "Processing weather for record 31 of Set 3 | launceston\n",
      "Processing weather for record 32 of Set 3 | flin flon\n",
      "Processing weather for record 33 of Set 3 | bethel\n",
      "Processing weather for record 34 of Set 3 | tacuarembo\n",
      "Processing weather for record 35 of Set 3 | mandiana\n",
      "Processing weather for record 36 of Set 3 | puerto ayora\n",
      "Processing weather for record 37 of Set 3 | mocuba\n",
      "Processing weather for record 38 of Set 3 | coalcoman\n",
      "City not found...next\n",
      "Processing weather for record 38 of Set 3 | meulaboh\n",
      "Processing weather for record 39 of Set 3 | vung tau\n",
      "Processing weather for record 40 of Set 3 | lavrentiya\n",
      "Processing weather for record 41 of Set 3 | melekhovskaya\n",
      "City not found...next\n",
      "Processing weather for record 41 of Set 3 | kahului\n",
      "Processing weather for record 42 of Set 3 | tabas\n",
      "Processing weather for record 43 of Set 3 | asau\n",
      "Processing weather for record 44 of Set 3 | popondetta\n",
      "Processing weather for record 45 of Set 3 | bluff\n",
      "Processing weather for record 46 of Set 3 | vaitupu\n",
      "City not found...next\n",
      "Processing weather for record 46 of Set 3 | thomaston\n",
      "Processing weather for record 47 of Set 3 | quepos\n",
      "Processing weather for record 48 of Set 3 | herat\n",
      "Processing weather for record 49 of Set 3 | port lincoln\n",
      "Processing weather for record 1 of Set 4 | phan thiet\n",
      "Processing weather for record 2 of Set 4 | xam nua\n",
      "Processing weather for record 3 of Set 4 | caravelas\n",
      "Processing weather for record 4 of Set 4 | katsuura\n",
      "Processing weather for record 5 of Set 4 | umm durman\n",
      "City not found...next\n",
      "Processing weather for record 5 of Set 4 | siderno\n",
      "Processing weather for record 6 of Set 4 | georgetown\n",
      "Processing weather for record 7 of Set 4 | sitka\n",
      "Processing weather for record 8 of Set 4 | ahipara\n",
      "Processing weather for record 9 of Set 4 | show low\n",
      "Processing weather for record 10 of Set 4 | minden\n",
      "Processing weather for record 11 of Set 4 | lorengau\n",
      "Processing weather for record 12 of Set 4 | vao\n",
      "Processing weather for record 13 of Set 4 | oriximina\n",
      "Processing weather for record 14 of Set 4 | zabol\n",
      "Processing weather for record 15 of Set 4 | ilebo\n",
      "Processing weather for record 16 of Set 4 | austin\n",
      "Processing weather for record 17 of Set 4 | ribeira grande\n",
      "Processing weather for record 18 of Set 4 | sentyabrskiy\n",
      "City not found...next\n",
      "Processing weather for record 18 of Set 4 | kuytun\n",
      "Processing weather for record 19 of Set 4 | krasnoselkup\n",
      "Processing weather for record 20 of Set 4 | rameswaram\n",
      "Processing weather for record 21 of Set 4 | evensk\n",
      "Processing weather for record 22 of Set 4 | skalistyy\n",
      "City not found...next\n",
      "Processing weather for record 22 of Set 4 | korogwe\n",
      "City not found...next\n",
      "Processing weather for record 22 of Set 4 | castro\n",
      "Processing weather for record 23 of Set 4 | codrington\n",
      "Processing weather for record 24 of Set 4 | ruteng\n",
      "Processing weather for record 25 of Set 4 | pisco\n",
      "Processing weather for record 26 of Set 4 | margate\n",
      "Processing weather for record 27 of Set 4 | san patricio\n",
      "Processing weather for record 28 of Set 4 | yeehaw junction\n",
      "City not found...next\n",
      "Processing weather for record 28 of Set 4 | hobyo\n",
      "Processing weather for record 29 of Set 4 | bendigo\n",
      "Processing weather for record 30 of Set 4 | ancud\n",
      "Processing weather for record 31 of Set 4 | cherskiy\n",
      "Processing weather for record 32 of Set 4 | piacabucu\n",
      "Processing weather for record 33 of Set 4 | cabo san lucas\n",
      "Processing weather for record 34 of Set 4 | yaan\n",
      "Processing weather for record 35 of Set 4 | hasaki\n",
      "Processing weather for record 36 of Set 4 | banda aceh\n",
      "Processing weather for record 37 of Set 4 | mehamn\n",
      "Processing weather for record 38 of Set 4 | eureka\n",
      "Processing weather for record 39 of Set 4 | longyearbyen\n",
      "Processing weather for record 40 of Set 4 | mahebourg\n",
      "Processing weather for record 41 of Set 4 | mount isa\n",
      "Processing weather for record 42 of Set 4 | iwanai\n",
      "Processing weather for record 43 of Set 4 | houma\n",
      "Processing weather for record 44 of Set 4 | badulla\n",
      "Processing weather for record 45 of Set 4 | kirakira\n",
      "Processing weather for record 46 of Set 4 | armacao dos buzios\n",
      "City not found...next\n",
      "Processing weather for record 46 of Set 4 | yeola\n",
      "Processing weather for record 47 of Set 4 | tulskiy\n",
      "Processing weather for record 48 of Set 4 | arraial do cabo\n",
      "Processing weather for record 49 of Set 4 | auki\n",
      "Processing weather for record 1 of Set 5 | rawson\n",
      "Processing weather for record 2 of Set 5 | san quintin\n",
      "Processing weather for record 3 of Set 5 | goure\n",
      "Processing weather for record 4 of Set 5 | poum\n",
      "Processing weather for record 5 of Set 5 | yenagoa\n",
      "Processing weather for record 6 of Set 5 | bani\n",
      "Processing weather for record 7 of Set 5 | torbay\n",
      "Processing weather for record 8 of Set 5 | sao filipe\n",
      "Processing weather for record 9 of Set 5 | vikhorevka\n",
      "Processing weather for record 10 of Set 5 | kazanka\n",
      "Processing weather for record 11 of Set 5 | khudumelapye\n",
      "Processing weather for record 12 of Set 5 | puerto leguizamo\n",
      "Processing weather for record 13 of Set 5 | kavieng\n",
      "Processing weather for record 14 of Set 5 | storforshei\n",
      "Processing weather for record 15 of Set 5 | almeria\n",
      "Processing weather for record 16 of Set 5 | davila\n",
      "Processing weather for record 17 of Set 5 | tuatapere\n",
      "Processing weather for record 18 of Set 5 | balakhta\n",
      "Processing weather for record 19 of Set 5 | hirara\n",
      "Processing weather for record 20 of Set 5 | joshimath\n",
      "Processing weather for record 21 of Set 5 | falmouth\n",
      "Processing weather for record 22 of Set 5 | port-cartier\n",
      "Processing weather for record 23 of Set 5 | ambilobe\n",
      "Processing weather for record 24 of Set 5 | omboue\n",
      "Processing weather for record 25 of Set 5 | kasongo-lunda\n",
      "Processing weather for record 26 of Set 5 | plettenberg bay\n",
      "Processing weather for record 27 of Set 5 | mar del plata\n",
      "Processing weather for record 28 of Set 5 | acajutla\n",
      "Processing weather for record 29 of Set 5 | harper\n",
      "Processing weather for record 30 of Set 5 | huarmey\n",
      "Processing weather for record 31 of Set 5 | utiroa\n",
      "City not found...next\n",
      "Processing weather for record 31 of Set 5 | isangel\n",
      "Processing weather for record 32 of Set 5 | salalah\n",
      "Processing weather for record 33 of Set 5 | matagami\n",
      "Processing weather for record 34 of Set 5 | oktyabrskiy\n",
      "Processing weather for record 35 of Set 5 | saint-georges\n",
      "Processing weather for record 36 of Set 5 | tiksi\n",
      "Processing weather for record 37 of Set 5 | arlit\n",
      "Processing weather for record 38 of Set 5 | kruisfontein\n",
      "Processing weather for record 39 of Set 5 | pangnirtung\n",
      "Processing weather for record 40 of Set 5 | lucea\n",
      "Processing weather for record 41 of Set 5 | hawkesbury\n",
      "Processing weather for record 42 of Set 5 | irricana\n",
      "Processing weather for record 43 of Set 5 | cardston\n",
      "Processing weather for record 44 of Set 5 | mangai\n",
      "Processing weather for record 45 of Set 5 | khani\n",
      "Processing weather for record 46 of Set 5 | bouafle\n",
      "Processing weather for record 47 of Set 5 | wanaka\n",
      "Processing weather for record 48 of Set 5 | cidreira\n",
      "Processing weather for record 49 of Set 5 | okhotsk\n",
      "Processing weather for record 1 of Set 6 | thunder bay\n",
      "Processing weather for record 2 of Set 6 | little elm\n",
      "Processing weather for record 3 of Set 6 | raciborz\n",
      "Processing weather for record 4 of Set 6 | isla mujeres\n",
      "Processing weather for record 5 of Set 6 | port hardy\n",
      "Processing weather for record 6 of Set 6 | gameleira\n",
      "Processing weather for record 7 of Set 6 | inderborskiy\n",
      "City not found...next\n",
      "Processing weather for record 7 of Set 6 | samalaeulu\n",
      "City not found...next\n",
      "Processing weather for record 7 of Set 6 | dwarka\n",
      "Processing weather for record 8 of Set 6 | gandai\n",
      "Processing weather for record 9 of Set 6 | nova pazova\n",
      "Processing weather for record 10 of Set 6 | hilo\n",
      "Processing weather for record 11 of Set 6 | rochegda\n",
      "Processing weather for record 12 of Set 6 | ossora\n",
      "Processing weather for record 13 of Set 6 | alofi\n",
      "Processing weather for record 14 of Set 6 | vuktyl\n",
      "Processing weather for record 15 of Set 6 | wanning\n",
      "Processing weather for record 16 of Set 6 | porto novo\n",
      "Processing weather for record 17 of Set 6 | amderma\n",
      "City not found...next\n",
      "Processing weather for record 17 of Set 6 | ostrovnoy\n",
      "Processing weather for record 18 of Set 6 | lulea\n",
      "Processing weather for record 19 of Set 6 | baghdad\n",
      "Processing weather for record 20 of Set 6 | cabedelo\n",
      "Processing weather for record 21 of Set 6 | taranagar\n",
      "Processing weather for record 22 of Set 6 | saint anthony\n",
      "Processing weather for record 23 of Set 6 | khatanga\n",
      "Processing weather for record 24 of Set 6 | belyy yar\n",
      "Processing weather for record 25 of Set 6 | hunza\n",
      "City not found...next\n",
      "Processing weather for record 25 of Set 6 | hay river\n",
      "Processing weather for record 26 of Set 6 | erenhot\n",
      "Processing weather for record 27 of Set 6 | morehead\n",
      "Processing weather for record 28 of Set 6 | korla\n",
      "Processing weather for record 29 of Set 6 | touros\n",
      "Processing weather for record 30 of Set 6 | coruripe\n",
      "Processing weather for record 31 of Set 6 | airai\n",
      "Processing weather for record 32 of Set 6 | scottsbluff\n",
      "Processing weather for record 33 of Set 6 | kotaparh\n",
      "Processing weather for record 34 of Set 6 | zhigansk\n",
      "Processing weather for record 35 of Set 6 | sao joao da barra\n",
      "Processing weather for record 36 of Set 6 | oshnaviyeh\n",
      "Processing weather for record 37 of Set 6 | point fortin\n",
      "Processing weather for record 38 of Set 6 | bathsheba\n",
      "Processing weather for record 39 of Set 6 | egvekinot\n",
      "Processing weather for record 40 of Set 6 | dolbeau\n",
      "City not found...next\n",
      "Processing weather for record 40 of Set 6 | mirabad\n",
      "Processing weather for record 41 of Set 6 | sambava\n",
      "Processing weather for record 42 of Set 6 | ketchikan\n",
      "Processing weather for record 43 of Set 6 | farafangana\n",
      "Processing weather for record 44 of Set 6 | sao jose da coroa grande\n",
      "Processing weather for record 45 of Set 6 | ende\n",
      "Processing weather for record 46 of Set 6 | oktyabrskoye\n",
      "Processing weather for record 47 of Set 6 | saint george\n",
      "Processing weather for record 48 of Set 6 | samarai\n",
      "Processing weather for record 49 of Set 6 | umzimvubu\n",
      "City not found...next\n",
      "Processing weather for record 49 of Set 6 | pacific grove\n",
      "Processing weather for record 1 of Set 7 | vardo\n",
      "Processing weather for record 2 of Set 7 | shingu\n",
      "Processing weather for record 3 of Set 7 | tara\n",
      "Processing weather for record 4 of Set 7 | omaruru\n",
      "Processing weather for record 5 of Set 7 | paragominas\n",
      "Processing weather for record 6 of Set 7 | kupang\n",
      "Processing weather for record 7 of Set 7 | bida\n",
      "Processing weather for record 8 of Set 7 | paamiut\n",
      "Processing weather for record 9 of Set 7 | sholokhove\n",
      "Processing weather for record 10 of Set 7 | comacchio\n",
      "Processing weather for record 11 of Set 7 | bolivar\n",
      "Processing weather for record 12 of Set 7 | saint-augustin\n",
      "Processing weather for record 13 of Set 7 | mayskiy\n",
      "Processing weather for record 14 of Set 7 | ixtapa\n",
      "Processing weather for record 15 of Set 7 | canto do buriti\n",
      "Processing weather for record 16 of Set 7 | meadow lake\n",
      "Processing weather for record 17 of Set 7 | hofn\n",
      "Processing weather for record 18 of Set 7 | souillac\n",
      "Processing weather for record 19 of Set 7 | palabuhanratu\n",
      "City not found...next\n",
      "Processing weather for record 19 of Set 7 | burica\n",
      "City not found...next\n",
      "Processing weather for record 19 of Set 7 | esperance\n",
      "Processing weather for record 20 of Set 7 | iqaluit\n",
      "Processing weather for record 21 of Set 7 | guerrero negro\n",
      "Processing weather for record 22 of Set 7 | malanje\n",
      "Processing weather for record 23 of Set 7 | saint-paul\n",
      "Processing weather for record 24 of Set 7 | lephepe\n",
      "City not found...next\n",
      "Processing weather for record 24 of Set 7 | kaitangata\n",
      "Processing weather for record 25 of Set 7 | laguna\n",
      "Processing weather for record 26 of Set 7 | yulara\n",
      "Processing weather for record 27 of Set 7 | taonan\n",
      "Processing weather for record 28 of Set 7 | shunyi\n",
      "Processing weather for record 29 of Set 7 | fort saint john\n",
      "City not found...next\n",
      "Processing weather for record 29 of Set 7 | oranjemund\n",
      "Processing weather for record 30 of Set 7 | jaguarao\n",
      "Processing weather for record 31 of Set 7 | novi knezevac\n",
      "Processing weather for record 32 of Set 7 | ilulissat\n",
      "Processing weather for record 33 of Set 7 | byron bay\n",
      "Processing weather for record 34 of Set 7 | karlstad\n",
      "Processing weather for record 35 of Set 7 | talnakh\n",
      "Processing weather for record 36 of Set 7 | santa cruz\n",
      "Processing weather for record 37 of Set 7 | yerbogachen\n",
      "Processing weather for record 38 of Set 7 | san juan bautista\n",
      "Processing weather for record 39 of Set 7 | palmer\n",
      "Processing weather for record 40 of Set 7 | manacapuru\n",
      "Processing weather for record 41 of Set 7 | valkeala\n",
      "Processing weather for record 42 of Set 7 | at-bashi\n",
      "Processing weather for record 43 of Set 7 | tiarei\n",
      "Processing weather for record 44 of Set 7 | asfi\n",
      "Processing weather for record 45 of Set 7 | jerome\n",
      "Processing weather for record 46 of Set 7 | ponta delgada\n",
      "Processing weather for record 47 of Set 7 | olinda\n",
      "Processing weather for record 48 of Set 7 | lola\n",
      "Processing weather for record 49 of Set 7 | coquimbo\n",
      "Processing weather for record 1 of Set 8 | koregaon\n",
      "Processing weather for record 2 of Set 8 | salinopolis\n",
      "Processing weather for record 3 of Set 8 | xiongyue\n",
      "Processing weather for record 4 of Set 8 | leningradskiy\n",
      "Processing weather for record 5 of Set 8 | port macquarie\n",
      "Processing weather for record 6 of Set 8 | tabiauea\n",
      "City not found...next\n",
      "Processing weather for record 6 of Set 8 | suntar\n",
      "Processing weather for record 7 of Set 8 | gdynia\n",
      "Processing weather for record 8 of Set 8 | zeya\n",
      "Processing weather for record 9 of Set 8 | port hedland\n",
      "Processing weather for record 10 of Set 8 | xuddur\n",
      "Processing weather for record 11 of Set 8 | naziya\n",
      "Processing weather for record 12 of Set 8 | lagoa\n",
      "Processing weather for record 13 of Set 8 | mangrol\n",
      "Processing weather for record 14 of Set 8 | cotonou\n",
      "Processing weather for record 15 of Set 8 | of\n",
      "City not found...next\n",
      "Processing weather for record 15 of Set 8 | darhan\n",
      "Processing weather for record 16 of Set 8 | fortuna\n",
      "Processing weather for record 17 of Set 8 | angicos\n",
      "Processing weather for record 18 of Set 8 | mantua\n",
      "Processing weather for record 19 of Set 8 | krasnyy chikoy\n",
      "Processing weather for record 20 of Set 8 | castanos\n",
      "Processing weather for record 21 of Set 8 | barysh\n",
      "Processing weather for record 22 of Set 8 | shaunavon\n",
      "Processing weather for record 23 of Set 8 | san policarpo\n",
      "Processing weather for record 24 of Set 8 | muroto\n",
      "Processing weather for record 25 of Set 8 | zhangjiakou\n",
      "Processing weather for record 26 of Set 8 | khvoynaya\n",
      "Processing weather for record 27 of Set 8 | bellevue\n",
      "Processing weather for record 28 of Set 8 | badacsonytomaj\n",
      "Processing weather for record 29 of Set 8 | kumluca\n",
      "Processing weather for record 30 of Set 8 | ahuimanu\n",
      "Processing weather for record 31 of Set 8 | borisoglebskiy\n",
      "Processing weather for record 32 of Set 8 | aklavik\n",
      "Processing weather for record 33 of Set 8 | taseyevo\n",
      "Processing weather for record 34 of Set 8 | vanimo\n",
      "Processing weather for record 35 of Set 8 | tondano\n",
      "Processing weather for record 36 of Set 8 | sobolevo\n",
      "Processing weather for record 37 of Set 8 | la libertad\n",
      "Processing weather for record 38 of Set 8 | tomatlan\n",
      "Processing weather for record 39 of Set 8 | xichang\n",
      "Processing weather for record 40 of Set 8 | figeac\n",
      "Processing weather for record 41 of Set 8 | linxia\n",
      "Processing weather for record 42 of Set 8 | shuyskoye\n",
      "Processing weather for record 43 of Set 8 | san cristobal\n",
      "Processing weather for record 44 of Set 8 | shelburne\n",
      "Processing weather for record 45 of Set 8 | goranboy\n",
      "Processing weather for record 46 of Set 8 | maun\n",
      "Processing weather for record 47 of Set 8 | las palmas\n",
      "Processing weather for record 48 of Set 8 | labuhan\n",
      "Processing weather for record 49 of Set 8 | ambodifototra\n",
      "City not found...next\n",
      "Processing weather for record 49 of Set 8 | kuryk\n",
      "Processing weather for record 1 of Set 9 | ulladulla\n",
      "Processing weather for record 2 of Set 9 | mys shmidta\n",
      "City not found...next\n",
      "Processing weather for record 2 of Set 9 | barcelos\n",
      "Processing weather for record 3 of Set 9 | chumikan\n",
      "Processing weather for record 4 of Set 9 | gazojak\n",
      "Processing weather for record 5 of Set 9 | canutama\n",
      "Processing weather for record 6 of Set 9 | salem\n",
      "Processing weather for record 7 of Set 9 | gardan diwal\n",
      "City not found...next\n",
      "Processing weather for record 7 of Set 9 | walvis bay\n",
      "Processing weather for record 8 of Set 9 | tawkar\n",
      "City not found...next\n",
      "Processing weather for record 8 of Set 9 | chuy\n",
      "Processing weather for record 9 of Set 9 | vershino-darasunskiy\n",
      "Processing weather for record 10 of Set 9 | saldanha\n",
      "Processing weather for record 11 of Set 9 | robertson\n",
      "Processing weather for record 12 of Set 9 | valdemarpils\n",
      "Processing weather for record 13 of Set 9 | vokhma\n",
      "Processing weather for record 14 of Set 9 | beroroha\n",
      "Processing weather for record 15 of Set 9 | resplendor\n",
      "Processing weather for record 16 of Set 9 | angoche\n",
      "Processing weather for record 17 of Set 9 | kualakapuas\n",
      "Processing weather for record 18 of Set 9 | qui nhon\n",
      "Processing weather for record 19 of Set 9 | viligili\n",
      "City not found...next\n",
      "Processing weather for record 19 of Set 9 | svetlogorsk\n",
      "Processing weather for record 20 of Set 9 | vasai\n",
      "Processing weather for record 21 of Set 9 | marshalltown\n",
      "Processing weather for record 22 of Set 9 | bandarbeyla\n",
      "Processing weather for record 23 of Set 9 | mahon\n",
      "Processing weather for record 24 of Set 9 | asilah\n",
      "Processing weather for record 25 of Set 9 | chegdomyn\n",
      "Processing weather for record 26 of Set 9 | olkhovka\n",
      "Processing weather for record 27 of Set 9 | rtishchevo\n",
      "Processing weather for record 28 of Set 9 | yarim\n",
      "Processing weather for record 29 of Set 9 | uglegorsk\n",
      "Processing weather for record 30 of Set 9 | sur\n",
      "Processing weather for record 31 of Set 9 | kedrovyy\n",
      "Processing weather for record 32 of Set 9 | yinchuan\n",
      "Processing weather for record 33 of Set 9 | kununurra\n",
      "Processing weather for record 34 of Set 9 | kozhva\n",
      "Processing weather for record 35 of Set 9 | barsovo\n",
      "Processing weather for record 36 of Set 9 | villa union\n",
      "Processing weather for record 37 of Set 9 | gornyak\n",
      "Processing weather for record 38 of Set 9 | shama\n",
      "Processing weather for record 39 of Set 9 | igrim\n",
      "Processing weather for record 40 of Set 9 | mooresville\n",
      "Processing weather for record 41 of Set 9 | afmadu\n",
      "City not found...next\n",
      "Processing weather for record 41 of Set 9 | wampusirpi\n",
      "City not found...next\n",
      "Processing weather for record 41 of Set 9 | waingapu\n",
      "Processing weather for record 42 of Set 9 | myitkyina\n",
      "Processing weather for record 43 of Set 9 | kloulklubed\n",
      "Processing weather for record 44 of Set 9 | northam\n",
      "Processing weather for record 45 of Set 9 | san jose\n",
      "Processing weather for record 46 of Set 9 | sola\n",
      "Processing weather for record 47 of Set 9 | flinders\n",
      "Processing weather for record 48 of Set 9 | kutum\n",
      "Processing weather for record 49 of Set 9 | batagay-alyta\n",
      "Processing weather for record 1 of Set 10 | sorland\n",
      "Processing weather for record 2 of Set 10 | senanga\n",
      "Processing weather for record 3 of Set 10 | safaga\n",
      "Processing weather for record 4 of Set 10 | menongue\n",
      "Processing weather for record 5 of Set 10 | alta floresta\n",
      "Processing weather for record 6 of Set 10 | vikulovo\n",
      "Processing weather for record 7 of Set 10 | fairbanks\n",
      "Processing weather for record 8 of Set 10 | nadym\n",
      "Processing weather for record 9 of Set 10 | morant bay\n",
      "Processing weather for record 10 of Set 10 | kosh-agach\n",
      "Processing weather for record 11 of Set 10 | zhuhai\n",
      "Processing weather for record 12 of Set 10 | labrea\n",
      "Processing weather for record 13 of Set 10 | kenai\n",
      "Processing weather for record 14 of Set 10 | kargil\n",
      "Processing weather for record 15 of Set 10 | puerto madryn\n",
      "Processing weather for record 16 of Set 10 | pangkalanbuun\n",
      "Processing weather for record 17 of Set 10 | bargal\n",
      "City not found...next\n",
      "Processing weather for record 17 of Set 10 | anloga\n",
      "Processing weather for record 18 of Set 10 | reo\n",
      "Processing weather for record 19 of Set 10 | chagda\n",
      "City not found...next\n",
      "Processing weather for record 19 of Set 10 | cabra\n",
      "Processing weather for record 20 of Set 10 | perene\n",
      "Processing weather for record 21 of Set 10 | ayolas\n",
      "Processing weather for record 22 of Set 10 | jalingo\n",
      "Processing weather for record 23 of Set 10 | koumac\n",
      "Processing weather for record 24 of Set 10 | lompoc\n",
      "Processing weather for record 25 of Set 10 | abeokuta\n",
      "Processing weather for record 26 of Set 10 | snezhnogorsk\n",
      "Processing weather for record 27 of Set 10 | kamenskoye\n",
      "City not found...next\n",
      "Processing weather for record 27 of Set 10 | mitsamiouli\n",
      "Processing weather for record 28 of Set 10 | kaduqli\n",
      "Processing weather for record 29 of Set 10 | san francisco\n",
      "Processing weather for record 30 of Set 10 | avera\n",
      "Processing weather for record 31 of Set 10 | pevek\n",
      "Processing weather for record 32 of Set 10 | yatou\n",
      "Processing weather for record 33 of Set 10 | maniitsoq\n",
      "Processing weather for record 34 of Set 10 | tapaua\n",
      "City not found...next\n",
      "Processing weather for record 34 of Set 10 | ubinskoye\n",
      "Processing weather for record 35 of Set 10 | petropavlovsk-kamchatskiy\n",
      "Processing weather for record 36 of Set 10 | severomuysk\n",
      "Processing weather for record 37 of Set 10 | haines junction\n",
      "Processing weather for record 38 of Set 10 | rongcheng\n",
      "Processing weather for record 39 of Set 10 | areosa\n",
      "Processing weather for record 40 of Set 10 | susanville\n",
      "Processing weather for record 41 of Set 10 | dubuque\n",
      "Processing weather for record 42 of Set 10 | shimanovsk\n",
      "Processing weather for record 43 of Set 10 | bilma\n",
      "Processing weather for record 44 of Set 10 | kholodnyy\n",
      "Processing weather for record 45 of Set 10 | gravatai\n",
      "Processing weather for record 46 of Set 10 | kyra\n",
      "Processing weather for record 47 of Set 10 | mian channun\n",
      "Processing weather for record 48 of Set 10 | grand gaube\n",
      "Processing weather for record 49 of Set 10 | kandrian\n",
      "Processing weather for record 1 of Set 11 | samusu\n",
      "City not found...next\n",
      "Processing weather for record 1 of Set 11 | boromo\n",
      "Processing weather for record 2 of Set 11 | mandali\n",
      "Processing weather for record 3 of Set 11 | udachnyy\n",
      "Processing weather for record 4 of Set 11 | warmbad\n",
      "Processing weather for record 5 of Set 11 | hamilton\n",
      "Processing weather for record 6 of Set 11 | viedma\n",
      "Processing weather for record 7 of Set 11 | santa vitoria do palmar\n",
      "Processing weather for record 8 of Set 11 | usinsk\n",
      "Processing weather for record 9 of Set 11 | adre\n",
      "Processing weather for record 10 of Set 11 | hoi an\n",
      "Processing weather for record 11 of Set 11 | kuche\n",
      "City not found...next\n",
      "Processing weather for record 11 of Set 11 | lolua\n",
      "City not found...next\n",
      "Processing weather for record 11 of Set 11 | kaiserslautern\n",
      "Processing weather for record 12 of Set 11 | namatanai\n",
      "Processing weather for record 13 of Set 11 | biswan\n",
      "Processing weather for record 14 of Set 11 | xining\n",
      "Processing weather for record 15 of Set 11 | beloha\n",
      "Processing weather for record 16 of Set 11 | vestmannaeyjar\n",
      "Processing weather for record 17 of Set 11 | clyde river\n",
      "Processing weather for record 18 of Set 11 | karratha\n",
      "Processing weather for record 19 of Set 11 | wonogiri\n",
      "Processing weather for record 20 of Set 11 | khandyga\n",
      "Processing weather for record 21 of Set 11 | sarh\n",
      "Processing weather for record 22 of Set 11 | portland\n",
      "Processing weather for record 23 of Set 11 | praia da vitoria\n",
      "Processing weather for record 24 of Set 11 | nyimba\n",
      "Processing weather for record 25 of Set 11 | pitkyaranta\n",
      "Processing weather for record 26 of Set 11 | burnie\n",
      "Processing weather for record 27 of Set 11 | takab\n",
      "Processing weather for record 28 of Set 11 | toliary\n",
      "City not found...next\n",
      "Processing weather for record 28 of Set 11 | kavaratti\n",
      "Processing weather for record 29 of Set 11 | nuziders\n",
      "Processing weather for record 30 of Set 11 | ballina\n",
      "Processing weather for record 31 of Set 11 | mazara del vallo\n",
      "Processing weather for record 32 of Set 11 | chiesd\n",
      "Processing weather for record 33 of Set 11 | klyuchi\n",
      "Processing weather for record 34 of Set 11 | murgab\n",
      "Processing weather for record 35 of Set 11 | tuy hoa\n",
      "Processing weather for record 36 of Set 11 | severo-kurilsk\n",
      "Processing weather for record 37 of Set 11 | paita\n",
      "Completed.\n"
     ]
    }
   ],
   "source": [
    "#url data\n",
    "\n",
    "url = \"http://api.openweathermap.org/data/2.5/weather?\"\n",
    "units = \"imperial\"\n",
    "\n",
    "#Response number\n",
    "record_num = 1\n",
    "record_set = 1\n",
    "\n",
    "print(\"Weather Data\")\n",
    "for index, row in weather_cities.iterrows():\n",
    "    \n",
    "    weathercity_url = url + \"appid=\"+ weather_api_key +\"&q=\" + cities[index] + \"&units=imperial\"\n",
    "    response = requests.get(weathercity_url).json()\n",
    "    \n",
    "    try:\n",
    "        print(f\"Processing weather for record {record_num} of Set {record_set} | {cities[index]}\")\n",
    "\n",
    "        \n",
    "        weather_cities.loc[index, 'Lat'] = response['coord']['lat']\n",
    "        weather_cities.loc[index, 'Lng'] = response['coord']['lon']\n",
    "        weather_cities.loc[index, 'Date'] = response['dt']\n",
    "        weather_cities.loc[index, 'Cloudiness'] = response['clouds']['all']\n",
    "        weather_cities.loc[index, 'Humidity'] = response['main']['humidity']\n",
    "        weather_cities.loc[index, 'Max Temp'] = response['main']['temp_max']\n",
    "        weather_cities.loc[index, 'Min Temp'] = response['main']['temp_min']\n",
    "        weather_cities.loc[index, 'Windspeed'] = response['wind']['speed']\n",
    "        \n",
    "        record_num += 1\n",
    "        \n",
    "    except (IndexError, KeyError): \n",
    "        \n",
    "        print(\"City not found...next\")\n",
    "    \n",
    "    if record_num == 50: \n",
    "        record_set +=1\n",
    "        record_num = 1\n",
    "    \n",
    "print(\"Completed.\")"
   ]
  },
  {
   "cell_type": "code",
   "execution_count": 13,
   "metadata": {},
   "outputs": [
    {
     "data": {
      "text/html": [
       "<div>\n",
       "<style scoped>\n",
       "    .dataframe tbody tr th:only-of-type {\n",
       "        vertical-align: middle;\n",
       "    }\n",
       "\n",
       "    .dataframe tbody tr th {\n",
       "        vertical-align: top;\n",
       "    }\n",
       "\n",
       "    .dataframe thead th {\n",
       "        text-align: right;\n",
       "    }\n",
       "</style>\n",
       "<table border=\"1\" class=\"dataframe\">\n",
       "  <thead>\n",
       "    <tr style=\"text-align: right;\">\n",
       "      <th></th>\n",
       "      <th>City</th>\n",
       "      <th>Lat</th>\n",
       "      <th>Long</th>\n",
       "      <th>Date</th>\n",
       "      <th>Cloudiness</th>\n",
       "      <th>Humidity</th>\n",
       "      <th>Max Temp</th>\n",
       "      <th>Min Temp</th>\n",
       "      <th>Windspeed</th>\n",
       "      <th>Lng</th>\n",
       "    </tr>\n",
       "  </thead>\n",
       "  <tbody>\n",
       "    <tr>\n",
       "      <th>0</th>\n",
       "      <td>hambantota</td>\n",
       "      <td>6.1241</td>\n",
       "      <td></td>\n",
       "      <td>1627344650</td>\n",
       "      <td>97</td>\n",
       "      <td>82</td>\n",
       "      <td>79.9</td>\n",
       "      <td>79.9</td>\n",
       "      <td>16.91</td>\n",
       "      <td>81.1185</td>\n",
       "    </tr>\n",
       "    <tr>\n",
       "      <th>1</th>\n",
       "      <td>vaini</td>\n",
       "      <td>-21.2</td>\n",
       "      <td></td>\n",
       "      <td>1627344631</td>\n",
       "      <td>75</td>\n",
       "      <td>83</td>\n",
       "      <td>78.96</td>\n",
       "      <td>78.96</td>\n",
       "      <td>10.36</td>\n",
       "      <td>-175.2000</td>\n",
       "    </tr>\n",
       "    <tr>\n",
       "      <th>2</th>\n",
       "      <td>aswan</td>\n",
       "      <td>24.0934</td>\n",
       "      <td></td>\n",
       "      <td>1627344651</td>\n",
       "      <td>20</td>\n",
       "      <td>20</td>\n",
       "      <td>86.77</td>\n",
       "      <td>86.77</td>\n",
       "      <td>11.81</td>\n",
       "      <td>32.9070</td>\n",
       "    </tr>\n",
       "    <tr>\n",
       "      <th>3</th>\n",
       "      <td>nikolskoye</td>\n",
       "      <td>59.7035</td>\n",
       "      <td></td>\n",
       "      <td>1627344651</td>\n",
       "      <td>10</td>\n",
       "      <td>71</td>\n",
       "      <td>62.02</td>\n",
       "      <td>60.4</td>\n",
       "      <td>3.56</td>\n",
       "      <td>30.7861</td>\n",
       "    </tr>\n",
       "    <tr>\n",
       "      <th>4</th>\n",
       "      <td>illoqqortoormiut</td>\n",
       "      <td></td>\n",
       "      <td></td>\n",
       "      <td></td>\n",
       "      <td></td>\n",
       "      <td></td>\n",
       "      <td></td>\n",
       "      <td></td>\n",
       "      <td></td>\n",
       "      <td>NaN</td>\n",
       "    </tr>\n",
       "  </tbody>\n",
       "</table>\n",
       "</div>"
      ],
      "text/plain": [
       "               City      Lat Long        Date Cloudiness Humidity Max Temp  \\\n",
       "0        hambantota   6.1241       1627344650         97       82     79.9   \n",
       "1             vaini    -21.2       1627344631         75       83    78.96   \n",
       "2             aswan  24.0934       1627344651         20       20    86.77   \n",
       "3        nikolskoye  59.7035       1627344651         10       71    62.02   \n",
       "4  illoqqortoormiut                                                          \n",
       "\n",
       "  Min Temp Windspeed       Lng  \n",
       "0     79.9     16.91   81.1185  \n",
       "1    78.96     10.36 -175.2000  \n",
       "2    86.77     11.81   32.9070  \n",
       "3     60.4      3.56   30.7861  \n",
       "4                          NaN  "
      ]
     },
     "execution_count": 13,
     "metadata": {},
     "output_type": "execute_result"
    }
   ],
   "source": [
    "weather_cities.head()"
   ]
  },
  {
   "cell_type": "code",
   "execution_count": 20,
   "metadata": {},
   "outputs": [
    {
     "data": {
      "text/plain": [
       "City          527\n",
       "Lat           527\n",
       "Long          527\n",
       "Date          527\n",
       "Cloudiness    527\n",
       "Humidity      527\n",
       "Max Temp      527\n",
       "Min Temp      527\n",
       "Windspeed     527\n",
       "Lng           527\n",
       "dtype: int64"
      ]
     },
     "execution_count": 20,
     "metadata": {},
     "output_type": "execute_result"
    }
   ],
   "source": [
    "weather_cities.count()\n",
    "\n",
    "#Had to drop NaN rows that were causing errors in the plots. Dropped Lng NaNs\n",
    "weather_cities = weather_cities.dropna(how='any')\n",
    "weather_cities.count()"
   ]
  },
  {
   "cell_type": "markdown",
   "metadata": {},
   "source": [
    "## Inspect the data and remove the cities where the humidity > 100%.\n",
    "----\n",
    "Skip this step if there are no cities that have humidity > 100%. "
   ]
  },
  {
   "cell_type": "code",
   "execution_count": null,
   "metadata": {},
   "outputs": [],
   "source": []
  },
  {
   "cell_type": "code",
   "execution_count": null,
   "metadata": {},
   "outputs": [],
   "source": [
    "#  Get the indices of cities that have humidity over 100%.\n"
   ]
  },
  {
   "cell_type": "code",
   "execution_count": null,
   "metadata": {},
   "outputs": [],
   "source": [
    "# Make a new DataFrame equal to the city data to drop all humidity outliers by index.\n",
    "# Passing \"inplace=False\" will make a copy of the city_data DataFrame, which we call \"clean_city_data\".\n"
   ]
  },
  {
   "cell_type": "code",
   "execution_count": 68,
   "metadata": {},
   "outputs": [],
   "source": [
    "#create csv output of data\n",
    "weather_cities.to_csv(weather_file)\n"
   ]
  },
  {
   "cell_type": "markdown",
   "metadata": {},
   "source": [
    "## Plotting the Data\n",
    "* Use proper labeling of the plots using plot titles (including date of analysis) and axes labels.\n",
    "* Save the plotted figures as .pngs."
   ]
  },
  {
   "cell_type": "markdown",
   "metadata": {},
   "source": [
    "## Latitude vs. Temperature Plot"
   ]
  },
  {
   "cell_type": "code",
   "execution_count": 70,
   "metadata": {
    "scrolled": true
   },
   "outputs": [
    {
     "data": {
      "image/png": "[encoded data removed]",
      "text/plain": [
       "<Figure size 432x288 with 1 Axes>"
      ]
     },
     "metadata": {
      "needs_background": "light"
     },
     "output_type": "display_data"
    }
   ],
   "source": [
    "x_values = weather_cities[\"Lat\"]\n",
    "y_values = weather_cities[\"Max Temp\"]\n",
    "\n",
    "plt.scatter(x_values,y_values,marker=\"o\", facecolors=\"red\", edgecolors=\"black\")\n",
    "plt.title(\"Latitude vs. Temperature Plot July 26, 2021\")\n",
    "plt.xlabel(\"Latitude\")\n",
    "plt.ylabel(\"Max Temperature(F)\")\n",
    "plt.grid(True)\n",
    "plt.savefig(\"Final Outputs/Lat vs Temp.png\")\n",
    "plt.show()          "
   ]
  },
  {
   "cell_type": "code",
   "execution_count": null,
   "metadata": {},
   "outputs": [],
   "source": [
    "#Latitude vs Temperature plot shows that there is increased temperature in the equator (0) latitude. \n"
   ]
  },
  {
   "cell_type": "markdown",
   "metadata": {},
   "source": [
    "## Latitude vs. Humidity Plot"
   ]
  },
  {
   "cell_type": "code",
   "execution_count": 71,
   "metadata": {},
   "outputs": [
    {
     "data": {
      "image/png": "[encoded data removed]",
      "text/plain": [
       "<Figure size 432x288 with 1 Axes>"
      ]
     },
     "metadata": {
      "needs_background": "light"
     },
     "output_type": "display_data"
    }
   ],
   "source": [
    "x_values = weather_cities[\"Lat\"]\n",
    "y_values = weather_cities[\"Humidity\"]\n",
    "\n",
    "plt.scatter(x_values, y_values ,marker=\"o\", facecolors=\"blue\", edgecolors=\"black\")\n",
    "plt.title(\"Latitude vs. Humidity Plot July 26, 2021\")\n",
    "plt.xlabel(\"Latitude\")\n",
    "plt.ylabel(\"Humidity\")\n",
    "plt.grid(True)\n",
    "plt.savefig(\"Final Outputs/Lat vs Humidity.png\")\n",
    "plt.show()  "
   ]
  },
  {
   "cell_type": "code",
   "execution_count": null,
   "metadata": {},
   "outputs": [],
   "source": [
    "#Latitude vs Humidity-0-20 Latitude has higher humidity with almost none below 60%, but other latitudes have more range"
   ]
  },
  {
   "cell_type": "markdown",
   "metadata": {},
   "source": [
    "## Latitude vs. Cloudiness Plot"
   ]
  },
  {
   "cell_type": "code",
   "execution_count": 73,
   "metadata": {},
   "outputs": [
    {
     "data": {
      "image/png": "[encoded data removed]",
      "text/plain": [
       "<Figure size 432x288 with 1 Axes>"
      ]
     },
     "metadata": {
      "needs_background": "light"
     },
     "output_type": "display_data"
    }
   ],
   "source": [
    "x_values = weather_cities[\"Lat\"]\n",
    "y_values = weather_cities[\"Cloudiness\"]\n",
    "\n",
    "plt.scatter(x_values,y_values,marker=\"o\", facecolors=\"gold\", edgecolors=\"black\")\n",
    "plt.title(\"Latitude vs. Cloudiness Plot July 26, 2021\")\n",
    "plt.xlabel(\"Latitude\")\n",
    "plt.ylabel(\"Cloudiness\")\n",
    "plt.grid(True)\n",
    "plt.savefig(\"Final Outputs/Lat vs Cloud.png\")\n",
    "plt.show()  "
   ]
  },
  {
   "cell_type": "code",
   "execution_count": null,
   "metadata": {},
   "outputs": [],
   "source": [
    "#Latitude vs cloudiness-There doesn't appear to be any pattern to show a difference between cloudiness and latitude"
   ]
  },
  {
   "cell_type": "markdown",
   "metadata": {},
   "source": [
    "## Latitude vs. Wind Speed Plot"
   ]
  },
  {
   "cell_type": "code",
   "execution_count": 74,
   "metadata": {},
   "outputs": [
    {
     "data": {
      "image/png": "[encoded data removed]",
      "text/plain": [
       "<Figure size 432x288 with 1 Axes>"
      ]
     },
     "metadata": {
      "needs_background": "light"
     },
     "output_type": "display_data"
    }
   ],
   "source": [
    "\n",
    "x_values = weather_cities[\"Lat\"]\n",
    "y_values = weather_cities[\"Windspeed\"]\n",
    "\n",
    "plt.scatter(x_values, y_values ,marker=\"o\", facecolors=\"fuchsia\", edgecolors=\"black\")\n",
    "plt.title(\"Latitude vs. Wind Speed July 26, 2021\")\n",
    "plt.xlabel(\"Latitude\")\n",
    "plt.ylabel(\"Wind Speed\")\n",
    "plt.grid(True)\n",
    "plt.savefig(\"Final Outputs/Lat vs Wind.png\")\n",
    "plt.show()  \n",
    "\n"
   ]
  },
  {
   "cell_type": "code",
   "execution_count": null,
   "metadata": {},
   "outputs": [],
   "source": [
    "#Latitude vs Wind Speed-The plot does show (-20 to 20) no windspeed above 25 mph. But it doesn't look significant. "
   ]
  },
  {
   "cell_type": "markdown",
   "metadata": {},
   "source": [
    "## Linear Regression"
   ]
  },
  {
   "cell_type": "code",
   "execution_count": 32,
   "metadata": {},
   "outputs": [
    {
     "data": {
      "text/html": [
       "<div>\n",
       "<style scoped>\n",
       "    .dataframe tbody tr th:only-of-type {\n",
       "        vertical-align: middle;\n",
       "    }\n",
       "\n",
       "    .dataframe tbody tr th {\n",
       "        vertical-align: top;\n",
       "    }\n",
       "\n",
       "    .dataframe thead th {\n",
       "        text-align: right;\n",
       "    }\n",
       "</style>\n",
       "<table border=\"1\" class=\"dataframe\">\n",
       "  <thead>\n",
       "    <tr style=\"text-align: right;\">\n",
       "      <th></th>\n",
       "      <th>City</th>\n",
       "      <th>Lat</th>\n",
       "      <th>Long</th>\n",
       "      <th>Date</th>\n",
       "      <th>Cloudiness</th>\n",
       "      <th>Humidity</th>\n",
       "      <th>Max Temp</th>\n",
       "      <th>Min Temp</th>\n",
       "      <th>Windspeed</th>\n",
       "      <th>Lng</th>\n",
       "    </tr>\n",
       "  </thead>\n",
       "  <tbody>\n",
       "    <tr>\n",
       "      <th>0</th>\n",
       "      <td>hambantota</td>\n",
       "      <td>6.1241</td>\n",
       "      <td></td>\n",
       "      <td>1627344650</td>\n",
       "      <td>97</td>\n",
       "      <td>82</td>\n",
       "      <td>79.9</td>\n",
       "      <td>79.9</td>\n",
       "      <td>16.91</td>\n",
       "      <td>81.1185</td>\n",
       "    </tr>\n",
       "    <tr>\n",
       "      <th>2</th>\n",
       "      <td>aswan</td>\n",
       "      <td>24.0934</td>\n",
       "      <td></td>\n",
       "      <td>1627344651</td>\n",
       "      <td>20</td>\n",
       "      <td>20</td>\n",
       "      <td>86.77</td>\n",
       "      <td>86.77</td>\n",
       "      <td>11.81</td>\n",
       "      <td>32.9070</td>\n",
       "    </tr>\n",
       "    <tr>\n",
       "      <th>3</th>\n",
       "      <td>nikolskoye</td>\n",
       "      <td>59.7035</td>\n",
       "      <td></td>\n",
       "      <td>1627344651</td>\n",
       "      <td>10</td>\n",
       "      <td>71</td>\n",
       "      <td>62.02</td>\n",
       "      <td>60.4</td>\n",
       "      <td>3.56</td>\n",
       "      <td>30.7861</td>\n",
       "    </tr>\n",
       "    <tr>\n",
       "      <th>5</th>\n",
       "      <td>victoria</td>\n",
       "      <td>22.2855</td>\n",
       "      <td></td>\n",
       "      <td>1627344122</td>\n",
       "      <td>95</td>\n",
       "      <td>84</td>\n",
       "      <td>89.33</td>\n",
       "      <td>86.95</td>\n",
       "      <td>5.99</td>\n",
       "      <td>114.1577</td>\n",
       "    </tr>\n",
       "    <tr>\n",
       "      <th>7</th>\n",
       "      <td>ahtopol</td>\n",
       "      <td>42.1</td>\n",
       "      <td></td>\n",
       "      <td>1627344652</td>\n",
       "      <td>0</td>\n",
       "      <td>72</td>\n",
       "      <td>68.47</td>\n",
       "      <td>68.47</td>\n",
       "      <td>6.4</td>\n",
       "      <td>27.9500</td>\n",
       "    </tr>\n",
       "    <tr>\n",
       "      <th>...</th>\n",
       "      <td>...</td>\n",
       "      <td>...</td>\n",
       "      <td>...</td>\n",
       "      <td>...</td>\n",
       "      <td>...</td>\n",
       "      <td>...</td>\n",
       "      <td>...</td>\n",
       "      <td>...</td>\n",
       "      <td>...</td>\n",
       "      <td>...</td>\n",
       "    </tr>\n",
       "    <tr>\n",
       "      <th>573</th>\n",
       "      <td>chiesd</td>\n",
       "      <td>47.3833</td>\n",
       "      <td></td>\n",
       "      <td>1627344787</td>\n",
       "      <td>56</td>\n",
       "      <td>76</td>\n",
       "      <td>76.19</td>\n",
       "      <td>75.11</td>\n",
       "      <td>5.28</td>\n",
       "      <td>22.8833</td>\n",
       "    </tr>\n",
       "    <tr>\n",
       "      <th>574</th>\n",
       "      <td>klyuchi</td>\n",
       "      <td>52.2667</td>\n",
       "      <td></td>\n",
       "      <td>1627344788</td>\n",
       "      <td>0</td>\n",
       "      <td>75</td>\n",
       "      <td>57.54</td>\n",
       "      <td>57.54</td>\n",
       "      <td>5.68</td>\n",
       "      <td>79.1667</td>\n",
       "    </tr>\n",
       "    <tr>\n",
       "      <th>575</th>\n",
       "      <td>murgab</td>\n",
       "      <td>37.4966</td>\n",
       "      <td></td>\n",
       "      <td>1627344788</td>\n",
       "      <td>0</td>\n",
       "      <td>25</td>\n",
       "      <td>87.24</td>\n",
       "      <td>87.24</td>\n",
       "      <td>14.47</td>\n",
       "      <td>61.9714</td>\n",
       "    </tr>\n",
       "    <tr>\n",
       "      <th>576</th>\n",
       "      <td>tuy hoa</td>\n",
       "      <td>13.0833</td>\n",
       "      <td></td>\n",
       "      <td>1627344788</td>\n",
       "      <td>31</td>\n",
       "      <td>63</td>\n",
       "      <td>84.88</td>\n",
       "      <td>84.88</td>\n",
       "      <td>17.31</td>\n",
       "      <td>109.3000</td>\n",
       "    </tr>\n",
       "    <tr>\n",
       "      <th>577</th>\n",
       "      <td>severo-kurilsk</td>\n",
       "      <td>50.6789</td>\n",
       "      <td></td>\n",
       "      <td>1627344388</td>\n",
       "      <td>100</td>\n",
       "      <td>87</td>\n",
       "      <td>60.76</td>\n",
       "      <td>60.76</td>\n",
       "      <td>7.43</td>\n",
       "      <td>156.1250</td>\n",
       "    </tr>\n",
       "  </tbody>\n",
       "</table>\n",
       "<p>357 rows × 10 columns</p>\n",
       "</div>"
      ],
      "text/plain": [
       "               City      Lat Long        Date Cloudiness Humidity Max Temp  \\\n",
       "0        hambantota   6.1241       1627344650         97       82     79.9   \n",
       "2             aswan  24.0934       1627344651         20       20    86.77   \n",
       "3        nikolskoye  59.7035       1627344651         10       71    62.02   \n",
       "5          victoria  22.2855       1627344122         95       84    89.33   \n",
       "7           ahtopol     42.1       1627344652          0       72    68.47   \n",
       "..              ...      ...  ...         ...        ...      ...      ...   \n",
       "573          chiesd  47.3833       1627344787         56       76    76.19   \n",
       "574         klyuchi  52.2667       1627344788          0       75    57.54   \n",
       "575          murgab  37.4966       1627344788          0       25    87.24   \n",
       "576         tuy hoa  13.0833       1627344788         31       63    84.88   \n",
       "577  severo-kurilsk  50.6789       1627344388        100       87    60.76   \n",
       "\n",
       "    Min Temp Windspeed       Lng  \n",
       "0       79.9     16.91   81.1185  \n",
       "2      86.77     11.81   32.9070  \n",
       "3       60.4      3.56   30.7861  \n",
       "5      86.95      5.99  114.1577  \n",
       "7      68.47       6.4   27.9500  \n",
       "..       ...       ...       ...  \n",
       "573    75.11      5.28   22.8833  \n",
       "574    57.54      5.68   79.1667  \n",
       "575    87.24     14.47   61.9714  \n",
       "576    84.88     17.31  109.3000  \n",
       "577    60.76      7.43  156.1250  \n",
       "\n",
       "[357 rows x 10 columns]"
      ]
     },
     "execution_count": 32,
     "metadata": {},
     "output_type": "execute_result"
    }
   ],
   "source": [
    "#Create data frames that separates Northern and Southern Hemisphere\n",
    "\n",
    "#Northern Hemisphere\n",
    "northern_hemicities = weather_cities.loc[pd.to_numeric(weather_cities[\"Lat\"]).astype(float) >0,:]\n",
    "\n",
    "#Southern Hemisphere \n",
    "southern_hemicities = weather_cities.loc[pd.to_numeric(weather_cities[\"Lat\"]).astype(float) <0,:]"
   ]
  },
  {
   "cell_type": "markdown",
   "metadata": {},
   "source": [
    "####  Northern Hemisphere - Max Temp vs. Latitude Linear Regression"
   ]
  },
  {
   "cell_type": "code",
   "execution_count": 76,
   "metadata": {},
   "outputs": [
    {
     "name": "stdout",
     "output_type": "stream",
     "text": [
      "The r-squared is:0.3920206443790693\n"
     ]
    },
    {
     "data": {
      "image/png": "[encoded data removed]",
      "text/plain": [
       "<Figure size 432x288 with 1 Axes>"
      ]
     },
     "metadata": {
      "needs_background": "light"
     },
     "output_type": "display_data"
    }
   ],
   "source": [
    "# x_values = northern_hemicities[\"Max Temp\"]\n",
    "# y_values = northern_hemicities[\"Lat\"]\n",
    "\n",
    "x_values = pd.to_numeric(northern_hemicities[\"Lat\"]).astype(float)\n",
    "y_values = pd.to_numeric(northern_hemicities[\"Max Temp\"]).astype(float)\n",
    "\n",
    "(slope, intercept, rvalue, pvalue, stderr) = linregress(x_values, y_values)\n",
    "regress_values = x_values * slope + intercept\n",
    "line_eq = \"y = \" + str(round(slope,2)) + \"x + \" + str(round(intercept,2))\n",
    "\n",
    "\n",
    "plt.scatter(x_values, y_values ,marker=\"o\", facecolors=\"fuchsia\", edgecolors=\"black\")\n",
    "plt.title(\"NH Max Temp vs Latitude Regression July 26, 2021\")\n",
    "plt.plot(x_values,regress_values,\"r-\")\n",
    "plt.xlabel(\"Max Temp\")\n",
    "plt.ylabel(\"Latitude\")\n",
    "plt.grid(True)\n",
    "print(f\"The r-squared is:{rvalue**2}\")\n",
    "plt.savefig(\"Final Outputs/NH MaxTemp vs Latitude Regression.png\")\n",
    "plt.show()  \n",
    "\n"
   ]
  },
  {
   "cell_type": "code",
   "execution_count": null,
   "metadata": {},
   "outputs": [],
   "source": [
    "#Max Temp v Latitude-The closer to the equator the higher the temperature appears to be. "
   ]
  },
  {
   "cell_type": "markdown",
   "metadata": {},
   "source": [
    "####  Southern Hemisphere - Max Temp vs. Latitude Linear Regression"
   ]
  },
  {
   "cell_type": "code",
   "execution_count": 77,
   "metadata": {},
   "outputs": [
    {
     "name": "stdout",
     "output_type": "stream",
     "text": [
      "The r-squared is:0.5913907061595495\n"
     ]
    },
    {
     "data": {
      "image/png": "[encoded data removed]",
      "text/plain": [
       "<Figure size 432x288 with 1 Axes>"
      ]
     },
     "metadata": {
      "needs_background": "light"
     },
     "output_type": "display_data"
    }
   ],
   "source": [
    "x_values = pd.to_numeric(southern_hemicities[\"Lat\"]).astype(float)\n",
    "y_values = pd.to_numeric(southern_hemicities[\"Max Temp\"]).astype(float)\n",
    "\n",
    "(slope, intercept, rvalue, pvalue, stderr) = linregress(x_values, y_values)\n",
    "regress_values = x_values * slope + intercept\n",
    "line_eq = \"y = \" + str(round(slope,2)) + \"x + \" + str(round(intercept,2))\n",
    "\n",
    "\n",
    "plt.scatter(x_values, y_values ,marker=\"o\", facecolors=\"gold\", edgecolors=\"black\")\n",
    "plt.title(\"SH Max Temp vs Latitude Regression July 26, 2021\")\n",
    "plt.plot(x_values,regress_values,\"r-\")\n",
    "plt.xlabel(\"Max Temp\")\n",
    "plt.ylabel(\"Latitude\")\n",
    "plt.grid(True)\n",
    "print(f\"The r-squared is:{rvalue**2}\")\n",
    "plt.savefig(\"Final Outputs/SH MaxTemp vs Latitude Regression.png\")\n",
    "plt.show()  "
   ]
  },
  {
   "cell_type": "code",
   "execution_count": null,
   "metadata": {},
   "outputs": [],
   "source": [
    "#SH Max Temp v Latitude-This temp graph looks incorrect so not sure if the regression makes sense. Code looks correct. "
   ]
  },
  {
   "cell_type": "markdown",
   "metadata": {},
   "source": [
    "####  Northern Hemisphere - Humidity (%) vs. Latitude Linear Regression"
   ]
  },
  {
   "cell_type": "code",
   "execution_count": 78,
   "metadata": {},
   "outputs": [
    {
     "name": "stdout",
     "output_type": "stream",
     "text": [
      "The r-squared is:0.0025717086375784057\n"
     ]
    },
    {
     "data": {
      "image/png": "[encoded data removed]",
      "text/plain": [
       "<Figure size 432x288 with 1 Axes>"
      ]
     },
     "metadata": {
      "needs_background": "light"
     },
     "output_type": "display_data"
    }
   ],
   "source": [
    "x_values = pd.to_numeric(northern_hemicities[\"Humidity\"]).astype(float)\n",
    "y_values = pd.to_numeric(northern_hemicities[\"Lat\"]).astype(float)\n",
    "\n",
    "(slope, intercept, rvalue, pvalue, stderr) = linregress(x_values, y_values)\n",
    "regress_values = x_values * slope + intercept\n",
    "line_eq = \"y = \" + str(round(slope,2)) + \"x + \" + str(round(intercept,2))\n",
    "\n",
    "\n",
    "plt.scatter(x_values, y_values ,marker=\"o\", facecolors=\"fuchsia\", edgecolors=\"black\")\n",
    "plt.title(\"NH Humidity vs Latitude July 26, 2021\")\n",
    "plt.plot(x_values,regress_values,\"r-\")\n",
    "plt.xlabel(\"Humidity\")\n",
    "plt.ylabel(\"Latitude\")\n",
    "plt.grid(True)\n",
    "print(f\"The r-squared is:{rvalue**2}\")\n",
    "plt.savefig(\"Final Outputs/NH Humidity vs Latitude Regression.png\")\n",
    "plt.show()  "
   ]
  },
  {
   "cell_type": "code",
   "execution_count": null,
   "metadata": {},
   "outputs": [],
   "source": [
    "#NH Humidity v Latitude-No correlation"
   ]
  },
  {
   "cell_type": "markdown",
   "metadata": {},
   "source": [
    "####  Southern Hemisphere - Humidity (%) vs. Latitude Linear Regression"
   ]
  },
  {
   "cell_type": "code",
   "execution_count": 79,
   "metadata": {},
   "outputs": [
    {
     "name": "stdout",
     "output_type": "stream",
     "text": [
      "The r-squared is:0.0014420562011945534\n"
     ]
    },
    {
     "data": {
      "image/png": "[encoded data removed]",
      "text/plain": [
       "<Figure size 432x288 with 1 Axes>"
      ]
     },
     "metadata": {
      "needs_background": "light"
     },
     "output_type": "display_data"
    }
   ],
   "source": [
    "x_values = pd.to_numeric(southern_hemicities[\"Humidity\"]).astype(float)\n",
    "y_values = pd.to_numeric(southern_hemicities[\"Lat\"]).astype(float)\n",
    "\n",
    "(slope, intercept, rvalue, pvalue, stderr) = linregress(x_values, y_values)\n",
    "regress_values = x_values * slope + intercept\n",
    "line_eq = \"y = \" + str(round(slope,2)) + \"x + \" + str(round(intercept,2))\n",
    "\n",
    "\n",
    "plt.scatter(x_values, y_values ,marker=\"o\", facecolors=\"gold\", edgecolors=\"black\")\n",
    "plt.title(\"SH Humidity vs Latitude Regression July 26, 2021\")\n",
    "plt.plot(x_values,regress_values,\"r-\")\n",
    "plt.xlabel(\"Humidity\")\n",
    "plt.ylabel(\"Latitude\")\n",
    "plt.grid(True)\n",
    "print(f\"The r-squared is:{rvalue**2}\")\n",
    "plt.savefig(\"Final Outputs/SH Humidity vs Latitude Regression.png\")\n",
    "plt.show()  "
   ]
  },
  {
   "cell_type": "code",
   "execution_count": null,
   "metadata": {},
   "outputs": [],
   "source": [
    "#SH Humidity vs Latitude-Similiar to the North, there doesn't seem to be correlation. "
   ]
  },
  {
   "cell_type": "markdown",
   "metadata": {},
   "source": [
    "####  Northern Hemisphere - Cloudiness (%) vs. Latitude Linear Regression"
   ]
  },
  {
   "cell_type": "code",
   "execution_count": 80,
   "metadata": {},
   "outputs": [
    {
     "name": "stdout",
     "output_type": "stream",
     "text": [
      "The r-squared is:0.005824310774823396\n"
     ]
    },
    {
     "data": {
      "image/png": "[encoded data removed]",
      "text/plain": [
       "<Figure size 432x288 with 1 Axes>"
      ]
     },
     "metadata": {
      "needs_background": "light"
     },
     "output_type": "display_data"
    }
   ],
   "source": [
    "x_values = pd.to_numeric(northern_hemicities[\"Cloudiness\"]).astype(float)\n",
    "y_values = pd.to_numeric(northern_hemicities[\"Lat\"]).astype(float)\n",
    "\n",
    "(slope, intercept, rvalue, pvalue, stderr) = linregress(x_values, y_values)\n",
    "regress_values = x_values * slope + intercept\n",
    "line_eq = \"y = \" + str(round(slope,2)) + \"x + \" + str(round(intercept,2))\n",
    "\n",
    "\n",
    "plt.scatter(x_values, y_values ,marker=\"o\", facecolors=\"fuchsia\", edgecolors=\"black\")\n",
    "plt.title(\"NH Cloudiness vs Latitude July 26, 2021\")\n",
    "plt.plot(x_values,regress_values,\"r-\")\n",
    "plt.xlabel(\"Cloudiness\")\n",
    "plt.ylabel(\"Latitude\")\n",
    "plt.grid(True)\n",
    "print(f\"The r-squared is:{rvalue**2}\")\n",
    "plt.savefig(\"Final Outputs/NH Cloudiness vs Latitude Regression.png\")\n",
    "plt.show() "
   ]
  },
  {
   "cell_type": "code",
   "execution_count": null,
   "metadata": {},
   "outputs": [],
   "source": [
    "#NH Cloudiness vs Latitude-No correlation"
   ]
  },
  {
   "cell_type": "markdown",
   "metadata": {},
   "source": [
    "####  Southern Hemisphere - Cloudiness (%) vs. Latitude Linear Regression"
   ]
  },
  {
   "cell_type": "code",
   "execution_count": 81,
   "metadata": {},
   "outputs": [
    {
     "name": "stdout",
     "output_type": "stream",
     "text": [
      "The r-squared is:0.001037213558217701\n"
     ]
    },
    {
     "data": {
      "image/png": "[encoded data removed]",
      "text/plain": [
       "<Figure size 432x288 with 1 Axes>"
      ]
     },
     "metadata": {
      "needs_background": "light"
     },
     "output_type": "display_data"
    }
   ],
   "source": [
    "x_values = pd.to_numeric(southern_hemicities[\"Cloudiness\"]).astype(float)\n",
    "y_values = pd.to_numeric(southern_hemicities[\"Lat\"]).astype(float)\n",
    "\n",
    "(slope, intercept, rvalue, pvalue, stderr) = linregress(x_values, y_values)\n",
    "regress_values = x_values * slope + intercept\n",
    "line_eq = \"y = \" + str(round(slope,2)) + \"x + \" + str(round(intercept,2))\n",
    "\n",
    "\n",
    "plt.scatter(x_values, y_values ,marker=\"o\", facecolors=\"gold\", edgecolors=\"black\")\n",
    "plt.title(\"SH Cloudiness vs Latitude Regression July 26, 2021\")\n",
    "plt.plot(x_values,regress_values,\"r-\")\n",
    "plt.xlabel(\"Cloudiness\")\n",
    "plt.ylabel(\"Latitude\")\n",
    "plt.grid(True)\n",
    "print(f\"The r-squared is:{rvalue**2}\")\n",
    "plt.savefig(\"Final Outputs/SH Cloudiness vs Latitude Regression.png\")\n",
    "plt.show() "
   ]
  },
  {
   "cell_type": "code",
   "execution_count": null,
   "metadata": {},
   "outputs": [],
   "source": [
    "#SH Cloudiness vs Latitude-No correlation"
   ]
  },
  {
   "cell_type": "markdown",
   "metadata": {},
   "source": [
    "####  Northern Hemisphere - Wind Speed (mph) vs. Latitude Linear Regression"
   ]
  },
  {
   "cell_type": "code",
   "execution_count": 82,
   "metadata": {},
   "outputs": [
    {
     "name": "stdout",
     "output_type": "stream",
     "text": [
      "The r-squared is:0.047206559910920654\n"
     ]
    },
    {
     "data": {
      "image/png": "[encoded data removed]",
      "text/plain": [
       "<Figure size 432x288 with 1 Axes>"
      ]
     },
     "metadata": {
      "needs_background": "light"
     },
     "output_type": "display_data"
    }
   ],
   "source": [
    "x_values = pd.to_numeric(northern_hemicities[\"Windspeed\"]).astype(float)\n",
    "y_values = pd.to_numeric(northern_hemicities[\"Lat\"]).astype(float)\n",
    "\n",
    "(slope, intercept, rvalue, pvalue, stderr) = linregress(x_values, y_values)\n",
    "regress_values = x_values * slope + intercept\n",
    "line_eq = \"y = \" + str(round(slope,2)) + \"x + \" + str(round(intercept,2))\n",
    "\n",
    "\n",
    "plt.scatter(x_values, y_values ,marker=\"o\", facecolors=\"fuchsia\", edgecolors=\"black\")\n",
    "plt.title(\"NH Wind Speed vs Latitude July 26, 2021\")\n",
    "plt.plot(x_values,regress_values,\"r-\")\n",
    "plt.xlabel(\"Wind Speed\")\n",
    "plt.ylabel(\"Latitude\")\n",
    "plt.grid(True)\n",
    "print(f\"The r-squared is:{rvalue**2}\")\n",
    "plt.savefig(\"Final Outputs/NH Wind Speed vs Latitude Regression.png\")\n",
    "plt.show() "
   ]
  },
  {
   "cell_type": "code",
   "execution_count": null,
   "metadata": {},
   "outputs": [],
   "source": [
    "#Wind speed vs Latitude- Highest speeds noted in lower latitudes but not in significant amounts"
   ]
  },
  {
   "cell_type": "markdown",
   "metadata": {},
   "source": [
    "####  Southern Hemisphere - Wind Speed (mph) vs. Latitude Linear Regression"
   ]
  },
  {
   "cell_type": "code",
   "execution_count": 84,
   "metadata": {},
   "outputs": [
    {
     "name": "stdout",
     "output_type": "stream",
     "text": [
      "The r-squared is:0.08608323830202182\n"
     ]
    },
    {
     "data": {
      "image/png": "[encoded data removed]",
      "text/plain": [
       "<Figure size 432x288 with 1 Axes>"
      ]
     },
     "metadata": {
      "needs_background": "light"
     },
     "output_type": "display_data"
    }
   ],
   "source": [
    "x_values = pd.to_numeric(southern_hemicities[\"Windspeed\"]).astype(float)\n",
    "y_values = pd.to_numeric(southern_hemicities[\"Lat\"]).astype(float)\n",
    "\n",
    "(slope, intercept, rvalue, pvalue, stderr) = linregress(x_values, y_values)\n",
    "regress_values = x_values * slope + intercept\n",
    "line_eq = \"y = \" + str(round(slope,2)) + \"x + \" + str(round(intercept,2))\n",
    "\n",
    "\n",
    "plt.scatter(x_values, y_values ,marker=\"o\", facecolors=\"gold\", edgecolors=\"black\")\n",
    "plt.title(\"SH Wind Speed vs Latitude Regression July 26, 2021\")\n",
    "plt.plot(x_values,regress_values,\"r-\")\n",
    "plt.xlabel(\"Wind Speed\")\n",
    "plt.ylabel(\"Latitude\")\n",
    "plt.grid(True)\n",
    "print(f\"The r-squared is:{rvalue**2}\")\n",
    "plt.savefig(\"Final Outputs/SH Wind Speed vs Latitude Regression.png\")\n",
    "plt.show() "
   ]
  },
  {
   "cell_type": "code",
   "execution_count": null,
   "metadata": {},
   "outputs": [],
   "source": [
    "#SH Wind Speed vs Latitude-Similiar to Northern Hemisphere there are highest winds in lowest latitude but not in signifiant amounts. "
   ]
  },
  {
   "cell_type": "code",
   "execution_count": null,
   "metadata": {},
   "outputs": [],
   "source": []
  },
  {
   "cell_type": "code",
   "execution_count": null,
   "metadata": {},
   "outputs": [],
   "source": []
  }
 ],
 "metadata": {
  "anaconda-cloud": {},
  "kernel_info": {
   "name": "python3"
  },
  "kernelspec": {
   "display_name": "Python 3",
   "language": "python",
   "name": "python3"
  },
  "language_info": {
   "codemirror_mode": {
    "name": "ipython",
    "version": 3
   },
   "file_extension": ".py",
   "mimetype": "text/x-python",
   "name": "python",
   "nbconvert_exporter": "python",
   "pygments_lexer": "ipython3",
   "version": "3.8.8"
  },
  "latex_envs": {
   "LaTeX_envs_menu_present": true,
   "autoclose": false,
   "autocomplete": true,
   "bibliofile": "biblio.bib",
   "cite_by": "apalike",
   "current_citInitial": 1,
   "eqLabelWithNumbers": true,
   "eqNumInitial": 1,
   "hotkeys": {
    "equation": "Ctrl-E",
    "itemize": "Ctrl-I"
   },
   "labels_anchors": false,
   "latex_user_defs": false,
   "report_style_numbering": false,
   "user_envs_cfg": false
  },
  "nteract": {
   "version": "0.12.3"
  }
 },
 "nbformat": 4,
 "nbformat_minor": 4
}
